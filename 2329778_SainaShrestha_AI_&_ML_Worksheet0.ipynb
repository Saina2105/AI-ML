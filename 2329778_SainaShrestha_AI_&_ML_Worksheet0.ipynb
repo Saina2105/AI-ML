{
  "nbformat": 4,
  "nbformat_minor": 0,
  "metadata": {
    "colab": {
      "provenance": []
    },
    "kernelspec": {
      "name": "python3",
      "display_name": "Python 3"
    },
    "language_info": {
      "name": "python"
    }
  },
  "cells": [
    {
      "cell_type": "markdown",
      "source": [
        "# Task - 1:\n",
        "## Create a Python program that converts between different units of measurement.\n",
        "\n",
        "### The program should:\n",
        "1. Prompt the user to choose the type of conversion (e.g., length, weight, volume).\n",
        "2. Ask the user to input the value to be converted.\n",
        "3. Perform the conversion and display the result.\n",
        "4. Handle potential errors, such as invalid input or unsupported conversion types.\n",
        "\n",
        "### Requirements:\n",
        "1. Functions: Define at least one function to perform the conversion.\n",
        "2. Error Handling: Use try-except blocks to handle invalid input (e.g., non-numeric values).\n",
        "3. User Input: Prompt the user to select the conversion type and input the value.\n",
        "4. Docstrings: Include a docstring in your function to describe its purpose, parameters, and return value.\n",
        "\n",
        "### Conversion Options:\n",
        "1. Length:\n",
        "\n",
        "Convert meters (m) to feet (ft).\n",
        "Convert feet (ft) to meters (m).\n",
        "\n",
        "2. Weight:\n",
        "\n",
        "Convert kilograms (kg) to pounds (lbs).\n",
        "Convert pounds (lbs) to kilograms (kg).\n",
        "\n",
        "3. Volume:\n",
        "\n",
        "Convert liters (L) to gallons (gal).\n",
        "Convert gallons (gal) to liters (L)."
      ],
      "metadata": {
        "id": "n1R_pZ2P8aZP"
      }
    },
    {
      "cell_type": "code",
      "source": [
        "def unit_converter():\n",
        "    \"\"\"Converts between units (length/weight/volume) with error handling.\"\"\"\n",
        "    try:\n",
        "        category = input(\"Choose category (length/weight/volume): \").lower()\n",
        "        if category not in [\"length\", \"weight\", \"volume\"]:\n",
        "            raise ValueError(\"Invalid category\")\n",
        "\n",
        "        value = float(input(\"Enter value: \"))\n",
        "        direction = input(\"Choose conversion:\\n1. m→ft\\n2. ft→m\\n3. kg→lbs\\n4. lbs→kg\\n5. L→gal\\n6. gal→L\\n> \")\n",
        "\n",
        "        conversions = {\n",
        "            \"1\": (value * 3.28084, f\"{value}m = {value*3.28084:.2f}ft\"),\n",
        "            \"2\": (value / 3.28084, f\"{value}ft = {value/3.28084:.2f}m\"),\n",
        "            \"3\": (value * 2.20462, f\"{value}kg = {value*2.20462:.2f}lbs\"),\n",
        "            \"4\": (value / 2.20462, f\"{value}lbs = {value/2.20462:.2f}kg\"),\n",
        "            \"5\": (value * 0.264172, f\"{value}L = {value*0.264172:.2f}gal\"),\n",
        "            \"6\": (value / 0.264172, f\"{value}gal = {value/0.264172:.2f}L\")\n",
        "        }\n",
        "\n",
        "        return conversions[direction][1]\n",
        "\n",
        "    except ValueError:\n",
        "        return \"Invalid input. Enter numbers only.\"\n",
        "    except KeyError:\n",
        "        return \"Invalid conversion choice.\"\n",
        "\n",
        "# Test\n",
        "unit_converter()"
      ],
      "metadata": {
        "colab": {
          "base_uri": "https://localhost:8080/",
          "height": 209
        },
        "id": "Mlwk1BUZ9nY4",
        "outputId": "b2f718c2-9642-4435-aece-9158fe2e4d4d"
      },
      "execution_count": null,
      "outputs": [
        {
          "name": "stdout",
          "output_type": "stream",
          "text": [
            "Choose category (length/weight/volume): length\n",
            "Enter value: 234\n",
            "Choose conversion:\n",
            "1. m→ft\n",
            "2. ft→m\n",
            "3. kg→lbs\n",
            "4. lbs→kg\n",
            "5. L→gal\n",
            "6. gal→L\n",
            "> 1\n"
          ]
        },
        {
          "output_type": "execute_result",
          "data": {
            "text/plain": [
              "'234.0m = 767.72ft'"
            ],
            "application/vnd.google.colaboratory.intrinsic+json": {
              "type": "string"
            }
          },
          "metadata": {},
          "execution_count": 1
        }
      ]
    },
    {
      "cell_type": "markdown",
      "source": [
        "# Task - 2:\n",
        "## Create a Python program that performs various mathematical operations on a list of numbers.\n",
        "\n",
        "### The Program should:\n",
        "\n",
        "1. Prompt the user to choose an operation (e.g., find the sum, average, maximum, or minimum\n",
        "of the numbers).\n",
        "2. Ask the user to input a list of numbers (separated by spaces).\n",
        "3. Perform the selected operation and display the result.\n",
        "4. Handle potential errors, such as invalid input or empty lists.\n",
        "\n",
        "### Requirements:\n",
        "\n",
        "1. Functions: Define at least one function for each operation (sum, average, maximum, mini-\n",
        "mum).\n",
        "2. Error Handling: Use try-except blocks to handle invalid input (e.g., non-numeric values or\n",
        "empty lists).\n",
        "3. User Input: Prompt the user to select the operation and input the list of numbers.\n",
        "4. Docstrings: Include a docstring in each function to describe its purpose, parameters, and\n",
        "return value."
      ],
      "metadata": {
        "id": "js1-Emn093Gk"
      }
    },
    {
      "cell_type": "code",
      "source": [
        "def math_operations():\n",
        "    \"\"\"Performs sum/avg/max/min on a list of numbers.\"\"\"\n",
        "    def _sum(nums): return sum(nums)\n",
        "    def _avg(nums): return sum(nums)/len(nums)\n",
        "    def _max(nums): return max(nums)\n",
        "    def _min(nums): return min(nums)\n",
        "\n",
        "    try:\n",
        "        op = input(\"Choose operation (sum/avg/max/min): \").lower()\n",
        "        nums = list(map(float, input(\"Enter numbers (space-separated): \").split()))\n",
        "        if not nums: raise ValueError(\"Empty list\")\n",
        "\n",
        "        return {\n",
        "            \"sum\": _sum(nums),\n",
        "            \"avg\": _avg(nums),\n",
        "            \"max\": _max(nums),\n",
        "            \"min\": _min(nums)\n",
        "        }[op]\n",
        "\n",
        "    except ValueError: return \"Invalid input\"\n",
        "    except KeyError: return \"Invalid operation\"\n",
        "\n",
        "math_operations()"
      ],
      "metadata": {
        "colab": {
          "base_uri": "https://localhost:8080/"
        },
        "id": "HR2ggUYL-U_C",
        "outputId": "b69af923-cd67-448b-f495-2a2cd93bda07"
      },
      "execution_count": null,
      "outputs": [
        {
          "name": "stdout",
          "output_type": "stream",
          "text": [
            "Choose operation (sum/avg/max/min): avg\n",
            "Enter numbers (space-separated): 12 34 22 56 67\n"
          ]
        },
        {
          "output_type": "execute_result",
          "data": {
            "text/plain": [
              "38.2"
            ]
          },
          "metadata": {},
          "execution_count": 2
        }
      ]
    },
    {
      "cell_type": "markdown",
      "source": [
        "# Exercise on List Manipulation:\n",
        "\n",
        "## 1. Extract Every Other Element:\n",
        "\n",
        "## Write a Python function that extracts every other element from a list, starting from the first element.\n",
        "\n",
        "### Requirements:\n",
        "\n",
        "Define a function extract every other(lst) that takes a list lst as input and returns a new list containing every other element from the original list.\n",
        "Example: For the input [1, 2, 3, 4, 5, 6], the output should be [1, 3, 5].\n",
        "\n",
        "## 2. Slice a Sublist:\n",
        "\n",
        "## Write a Python function that returns a sublist from a given list, starting from a specified index and ending at another specified index.\n",
        "\n",
        "### Requirements:\n",
        "\n",
        "Define a function get sublist(lst, start, end) that takes a list lst, a starting index start, and an ending index end as input and returns the sublist from start to end (inclusive).\n",
        "Example: For the input [1, 2, 3, 4, 5, 6] with start=2 and end=4, the output should be [3, 4, 5].\n",
        "\n",
        "## 3. Reverse a List Using Slicing:\n",
        "\n",
        "## Write a Python function that reverses a list using slicing.\n",
        "\n",
        "### Requirements:\n",
        "\n",
        "Define a function reverse list(lst) that takes a list lst and returns a reversed list using slicing.\n",
        "Example: For the input [1, 2, 3, 4, 5], the output should be [5, 4, 3, 2, 1].\n",
        "\n",
        "## 4. Remove the First and Last Elements:\n",
        "\n",
        "## Write a Python function that removes the first and last elements of a list and returns the resulting sublist.\n",
        "\n",
        "### Requirements:\n",
        "\n",
        "Define a function remove first last(lst) that takes a list lst and returns a sublist without the first and last elements using slicing.\n",
        "Example: For the input [1, 2, 3, 4, 5], the output should be [2, 3, 4].\n",
        "\n",
        "## 5. Get the First n Elements:\n",
        "\n",
        "## Write a Python function that extracts the first n elements from a list.\n",
        "\n",
        "### Requirements:\n",
        "\n",
        "Define a function get first n(lst, n) that takes a list lst and an integer n as input and returns the first n elements of the list using slicing.\n",
        "Example: For the input [1, 2, 3, 4, 5] with n=3, the output should be [1, 2, 3].\n",
        "\n",
        "## 6. Extract Elements from the End:\n",
        "\n",
        "## Write a Python function that extracts the last n elements of a list using slicing.\n",
        "\n",
        "### Requirements:\n",
        "\n",
        "Define a function get last n(lst, n) that takes a list lst and an integer n as input and returns the last n elements of the list.\n",
        "Example: For the input [1, 2, 3, 4, 5] with n=2, the output should be [4, 5].\n",
        "\n",
        "## 7. Extract Elements in Reverse Order:\n",
        "\n",
        "## Write a Python function that extracts a list of elements in reverse order starting from the second-to-last element and skipping one element in between.\n",
        "\n",
        "### Requirements:\n",
        "\n",
        "Define a function reverse skip(lst) that takes a list lst and returns a new list containing every second element starting from the second-to-last, moving backward.\n",
        "Example: For the input [1, 2, 3, 4, 5, 6], the output should be [5, 3, 1]."
      ],
      "metadata": {
        "id": "AP6aDhb__G50"
      }
    },
    {
      "cell_type": "code",
      "source": [
        "# 1. Extract Every Other Element\n",
        "def extract_every_other(lst):\n",
        "    return lst[::2]\n",
        "list0 = [1, 2, 3, 4, 5, 6]\n",
        "print(extract_every_other(list0))\n",
        "\n",
        "\n",
        "# 2. Get Sublist\n",
        "def get_sublist(lst, start, end):\n",
        "  return lst[start:end+1]\n",
        "list0 = [1, 2, 3, 4, 5, 6]\n",
        "print(get_sublist(list0, 2, 4))\n",
        "\n",
        "\n",
        "# 3. Reverse List\n",
        "def reverse_list(lst):\n",
        "  return lst[3]\n",
        "list1 = [1, 2, 3, 4, 5]\n",
        "print(\"quotient\", reverse_list(list1))\n",
        "\n",
        "# 4. Remove First/Last\n",
        "def remove_first_last(lst):\n",
        "  return lst[1:-1] if len(lst) > 2 else []\n",
        "print(remove_first_last(list1))\n",
        "\n",
        "# 5. First N Elements\n",
        "def get_first_n(lst, n):\n",
        "  return lst[:n]\n",
        "print(get_first_n(list1, 3))\n",
        "\n",
        "# 6. Last N Elements\n",
        "def get_last_n(lst, n):\n",
        "  return lst[-n:]\n",
        "print(get_last_n(list1, 2))\n",
        "\n",
        "# 7. Reverse Skip\n",
        "def reverse_skip(lst):\n",
        "  return lst[-2::-2]\n",
        "print(reverse_skip(list))\n"
      ],
      "metadata": {
        "id": "cIDQuN2UBfyf",
        "colab": {
          "base_uri": "https://localhost:8080/"
        },
        "outputId": "4e7c68de-4683-47d6-8585-23e0c2be9ab6"
      },
      "execution_count": null,
      "outputs": [
        {
          "output_type": "stream",
          "name": "stdout",
          "text": [
            "[1, 3, 5]\n",
            "[3, 4, 5]\n",
            "quotient 4\n",
            "[2, 3, 4]\n",
            "[1, 2, 3]\n",
            "[4, 5]\n",
            "list[slice(-2, None, -2)]\n"
          ]
        }
      ]
    },
    {
      "cell_type": "markdown",
      "source": [
        "# 4.3. Exercise on Nested List:\n",
        "\n",
        "## 1. Flatten a Nested List:\n",
        "## Write a Python function that takes a nested list and flattens it into a single list, where all the elements are in a single dimension.\n",
        "\n",
        "### Requirements:\n",
        "Define a function flatten(lst) that takes a nested list lst and returns a flattened version of the list.\n",
        "Example: For the input [[1, 2], [3, 4], [5]], the output should be [1, 2, 3, 4, 5].\n",
        "\n",
        "## 2. Accessing Nested List Elements:\n",
        "## Write a Python function that extracts a specific element from a nested list given its indices.\n",
        "\n",
        "### Requirements:\n",
        "Define a function access nested element(lst, indices) that takes a nested list lst and a list of indices indices, and returns the element at that position.\n",
        "Example: For the input lst = [[1, 2, 3], [4, 5, 6], [7, 8, 9]] with indices = [1,2], the output should be 6.\n",
        "\n",
        "## 3. Sum of All Elements in a Nested List:\n",
        "## Write a Python function that calculates the sum of all the numbers in a nested list (regardless of depth).\n",
        "\n",
        "### Requirements:\n",
        "Define a function sum nested(lst) that takes a nested list lst and returns the sum of all the elements.\n",
        "Example: For the input [[1, 2], [3, [4, 5]], 6], the output should be 21.\n",
        "\n",
        "## 4. Remove Specific Element from a Nested List:\n",
        "## Write a Python function that removes all occurrences of a specific element from a nested list.\n",
        "\n",
        "### Requirements:\n",
        "Define a function remove element(lst, elem) that removes elem from lst and returns the modified list.\n",
        "Example: For the input lst = [[1, 2], [3, 2], [4, 5]] and elem = 2, the output should be [[1], [3], [4, 5]].\n",
        "\n",
        "## 5. Find the Maximum Element in a Nested List:\n",
        "## Write a Python function that finds the maximum element in a nested list (regardless of depth).\n",
        "\n",
        "### • Requirements:\n",
        "Define a function find max(lst) that takes a nested list lst and returns the maximum element.\n",
        "Example: For the input [[1, 2], [3, [4, 5]], 6], the output should be 6.\n",
        "\n",
        "## 6. Count Occurrences of an Element in a Nested List:\n",
        "## Write a Python function that counts how many times a specific element appears in a nested list.\n",
        "\n",
        "### Requirements:\n",
        "Define a function count occurrences(lst, elem) that counts the occurrences of elem in the nested list lst.\n",
        "Example: For the input lst = [[1, 2], [2, 3], [2, 4]] and elem = 2, the output should be 3.\n",
        "\n",
        "## 7. Flatten a List of Lists of Lists:\n",
        "## Write a Python function that flattens a list of lists of lists into a single list, regardless of the depth.\n",
        "\n",
        "### Requirements:\n",
        "Define a function deep flatten(lst) that takes a deeply nested list lst and returns a single flattened list.\n",
        "Example: For the input [[[1, 2], [3, 4]], [[5, 6], [7, 8]]], the output should be [1, 2, 3, 4, 5, 6, 7, 8].\n",
        "\n",
        "## 8. Nested List Average:\n",
        "## Write a Python function that calculates the average of all elements in a nested list.\n",
        "\n",
        "### Requirements:\n",
        "Define a function average nested(lst) that takes a nested list lst and returns the average of all the elements.\n",
        "Example: For the input [[1, 2], [3, 4], [5, 6]], the output should be 3.5."
      ],
      "metadata": {
        "id": "TEW0eNEyB2Oq"
      }
    },
    {
      "cell_type": "code",
      "source": [
        "# 1. Flatten Nested List\n",
        "def flatten(lst):\n",
        "    return [item for sublist in lst for item in sublist]\n",
        "nested_list = [[1, 2], [3, 4], [5]]\n",
        "result = flatten(nested_list)\n",
        "print(result)\n",
        "\n",
        "\n",
        "# 2. Access Nested Element\n",
        "def access_nested_element(lst, indices):\n",
        "    for index in indices:\n",
        "        lst = lst[index]\n",
        "    return lst\n",
        "\n",
        "\n",
        "nested_list = [[1, 2, 3], [4, 5, 6], [7, 8, 9]]\n",
        "indices = [1, 2]\n",
        "result = access_nested_element(nested_list, indices)\n",
        "print(result)\n",
        "\n",
        "\n",
        "# 3. Sum Nested List\n",
        "def sum_nested(lst):\n",
        "    total = 0\n",
        "    for element in lst:\n",
        "        if isinstance(element, list):\n",
        "            total += sum_nested(element)\n",
        "        else:\n",
        "            total += element\n",
        "    return total\n",
        "\n",
        "\n",
        "nested_list = [[1, 2], [3, [4, 5]], 6]\n",
        "result = sum_nested(nested_list)\n",
        "print(result)\n",
        "# 4. Remove Element\n",
        "def remove_element(lst, elem):\n",
        "    return [remove_element(i, elem) if isinstance(i, list) else i for i in lst if i != elem]\n",
        "\n",
        "listD = [[1, 2], [3, 2], [4, 5]]\n",
        "print(remove_element(listD, 2))"
      ],
      "metadata": {
        "id": "-5gSxTPWDwbw",
        "colab": {
          "base_uri": "https://localhost:8080/"
        },
        "outputId": "752db40d-f80b-4bfa-9396-1c3b972e1300"
      },
      "execution_count": null,
      "outputs": [
        {
          "output_type": "stream",
          "name": "stdout",
          "text": [
            "[1, 2, 3, 4, 5]\n",
            "6\n",
            "21\n",
            "[[1], [3], [4, 5]]\n"
          ]
        }
      ]
    },
    {
      "cell_type": "code",
      "source": [
        "# 5. Find Max\n",
        "def find_max(lst):\n",
        "    max_value = float('-inf')  # Initialize max_value to negative infinity\n",
        "\n",
        "    for item in lst:\n",
        "        if isinstance(item, list):\n",
        "            max_value = max(max_value, find_max(item))  # Recursively find max in sublists\n",
        "        else:\n",
        "            max_value = max(max_value, item)  # Compare with current max\n",
        "\n",
        "    return max_value\n",
        "\n",
        "\n",
        "nested_list = [[1, 2], [3, [4, 5]], 6]\n",
        "result = find_max(nested_list)\n",
        "print(result)\n"
      ],
      "metadata": {
        "colab": {
          "base_uri": "https://localhost:8080/"
        },
        "id": "OBT6GWOMsi2x",
        "outputId": "a95903f0-e6e1-4e01-e9f4-c6d8f1eec65d"
      },
      "execution_count": null,
      "outputs": [
        {
          "output_type": "stream",
          "name": "stdout",
          "text": [
            "6\n"
          ]
        }
      ]
    },
    {
      "cell_type": "code",
      "source": [
        "# 6. Count Occurrences\n",
        "def count_occurrences(lst, elem):\n",
        "    count = 0  # Initialize count\n",
        "\n",
        "    for item in lst:\n",
        "        if isinstance(item, list):\n",
        "            count += count_occurrences(item, elem)  # Recursively count in sublists\n",
        "        elif item == elem:\n",
        "            count += 1  # Increment count if the element matches\n",
        "\n",
        "    return count\n",
        "\n",
        "\n",
        "nested_list = [[1, 2], [2, 3], [2, 4]]\n",
        "element_to_count = 2\n",
        "result = count_occurrences(nested_list, element_to_count)\n",
        "print(result)\n"
      ],
      "metadata": {
        "colab": {
          "base_uri": "https://localhost:8080/"
        },
        "id": "jdaA6LNSuiyb",
        "outputId": "f16be650-dfed-4329-c925-615393f1ea72"
      },
      "execution_count": null,
      "outputs": [
        {
          "output_type": "stream",
          "name": "stdout",
          "text": [
            "3\n"
          ]
        }
      ]
    },
    {
      "cell_type": "code",
      "source": [
        "# 7. Deep Flatten\n",
        "def deep_flatten(lst):\n",
        "    flattened = []  # Initialize an empty list to store the flattened elements\n",
        "\n",
        "    for item in lst:\n",
        "        if isinstance(item, list):\n",
        "            flattened.extend(deep_flatten(item))  # Recursively flatten sublists\n",
        "        else:\n",
        "            flattened.append(item)  # Add non-list items directly to the flattened list\n",
        "\n",
        "    return flattened\n",
        "nested_list = [[[1, 2], [3, 4]], [[5, 6], [7, 8]]]\n",
        "result = deep_flatten(nested_list)\n",
        "print(result)"
      ],
      "metadata": {
        "colab": {
          "base_uri": "https://localhost:8080/"
        },
        "id": "nI9khAz2uu5H",
        "outputId": "78d5f8fa-b375-42ff-b4be-165c117893ea"
      },
      "execution_count": null,
      "outputs": [
        {
          "output_type": "stream",
          "name": "stdout",
          "text": [
            "[1, 2, 3, 4, 5, 6, 7, 8]\n"
          ]
        }
      ]
    },
    {
      "cell_type": "code",
      "source": [
        "# 8. Nested Average\n",
        "def average_nested(lst):\n",
        "    def deep_flatten(lst):\n",
        "        flattened = []\n",
        "        for item in lst:\n",
        "            if isinstance(item, list):\n",
        "                flattened.extend(deep_flatten(item))  # Recursively flatten sublists\n",
        "            else:\n",
        "                flattened.append(item)\n",
        "        return flattened\n",
        "\n",
        "    flattened_list = deep_flatten(lst)  # Get a single-level list\n",
        "    if not flattened_list:  # Handle empty lists\n",
        "        return 0\n",
        "\n",
        "    return sum(flattened_list) / len(flattened_list)  # Calculate the average\n",
        "\n",
        "\n",
        "nested_list = [[1, 2], [3, 4], [5, 6]]\n",
        "result = average_nested(nested_list)\n",
        "print(result)"
      ],
      "metadata": {
        "colab": {
          "base_uri": "https://localhost:8080/"
        },
        "id": "YwwcDmCNuw5b",
        "outputId": "943ee7d2-f1ec-4e03-cb04-a6b4d17759d7"
      },
      "execution_count": null,
      "outputs": [
        {
          "output_type": "stream",
          "name": "stdout",
          "text": [
            "3.5\n"
          ]
        }
      ]
    },
    {
      "cell_type": "markdown",
      "source": [
        "# Basic Vector and Matrix Operation with Numpy.\n",
        "## Problem - 1: Array Creation:\n",
        "### Complete the following Tasks:\n",
        "1. Initialize an empty array with size 2X2.\n",
        "2. Initialize an all one array with size 4X2.\n",
        "3. Return a new array of given shape and type, filled with fill value.{Hint: np.full}\n",
        "4. Return a new array of zeros with same shape and type as a given array.{Hint: np.zeros like}\n",
        "5. Return a new array of ones with same shape and type as a given array.{Hint: np.ones like}\n",
        "6. For an existing list new_list = [1,2,3,4] convert to an numpy array.{Hint: np.array()}"
      ],
      "metadata": {
        "id": "zmKdtNUKELVB"
      }
    },
    {
      "cell_type": "code",
      "source": [
        "import numpy as np\n",
        "\n",
        "empty_array = np.empty((2, 2))\n",
        "print(\"Empty 2x2 Array:\\n\", empty_array)\n",
        "\n",
        "ones_array = np.ones((4, 2))\n",
        "print(\"\\nAll Ones 4x2 Array:\\n\", ones_array)\n",
        "\n",
        "fill_value_array = np.full((3, 3), 7)\n",
        "print(\"\\n3x3 Array Filled with 7:\\n\", fill_value_array)\n",
        "\n",
        "reference_array = np.array([[1, 2, 3], [4, 5, 6]])\n",
        "zeros_like_array = np.zeros_like(reference_array)\n",
        "print(\"\\nZeros Array with Same Shape as Reference Array:\\n\", zeros_like_array)\n",
        "\n",
        "ones_like_array = np.ones_like(reference_array)\n",
        "print(\"\\nOnes Array with Same Shape as Reference Array:\\n\", ones_like_array)\n",
        "\n",
        "new_list = [1, 2, 3, 4]\n",
        "numpy_array = np.array(new_list)\n",
        "print(\"\\nConverted NumPy Array:\\n\", numpy_array)"
      ],
      "metadata": {
        "colab": {
          "base_uri": "https://localhost:8080/"
        },
        "id": "OT8Cb7mOi4QR",
        "outputId": "ea5f6cd4-725e-400d-d6bb-ccd2d2e5edb4"
      },
      "execution_count": null,
      "outputs": [
        {
          "output_type": "stream",
          "name": "stdout",
          "text": [
            "Empty 2x2 Array:\n",
            " [[2.09602622e-316 0.00000000e+000]\n",
            " [1.67709717e+243 1.10441143e+155]]\n",
            "\n",
            "All Ones 4x2 Array:\n",
            " [[1. 1.]\n",
            " [1. 1.]\n",
            " [1. 1.]\n",
            " [1. 1.]]\n",
            "\n",
            "3x3 Array Filled with 7:\n",
            " [[7 7 7]\n",
            " [7 7 7]\n",
            " [7 7 7]]\n",
            "\n",
            "Zeros Array with Same Shape as Reference Array:\n",
            " [[0 0 0]\n",
            " [0 0 0]]\n",
            "\n",
            "Ones Array with Same Shape as Reference Array:\n",
            " [[1 1 1]\n",
            " [1 1 1]]\n",
            "\n",
            "Converted NumPy Array:\n",
            " [1 2 3 4]\n"
          ]
        }
      ]
    },
    {
      "cell_type": "markdown",
      "source": [
        "# Problem - 2: Array Manipulation: Numerical Ranges and Array indexing: Complete the following tasks:\n",
        "\n",
        "Create an array with values ranging from 10 to 49. {Hint:np.arrange()}.\n",
        "Create a 3X3 matrix with values ranging from 0 to 8. {Hint:look for np.reshape()}\n",
        "Create a 3X3 identity matrix.{Hint:np.eye()}\n",
        "Create a random array of size 30 and find the mean of the array. {Hint:check for np.random.random() and array.mean() function}\n",
        "Create a 10X10 array with random values and find the minimum and maximum values.\n",
        "Create a zero array of size 10 and replace 5th element with 1.\n",
        "Reverse an array arr = [1,2,0,0,4,0].\n",
        "Create a 2d array with 1 on border and 0 inside.\n",
        "Create a 8X8 matrix and fill it with a checkerboard pattern."
      ],
      "metadata": {
        "id": "3gifUB3Sih5I"
      }
    },
    {
      "cell_type": "code",
      "source": [
        "import numpy as np\n",
        "\n",
        "# 1. Create an array with values ranging from 10 to 49\n",
        "array_10_49 = np.arange(10, 50)\n",
        "print(\"Array from 10 to 49:\\n\", array_10_49)\n",
        "\n",
        "# 2. Create a 3x3 matrix with values ranging from 0 to 8\n",
        "matrix_3x3 = np.arange(9).reshape(3, 3)\n",
        "print(\"\\n3x3 Matrix with values from 0 to 8:\\n\", matrix_3x3)\n",
        "\n",
        "# 3. Create a 3x3 identity matrix\n",
        "identity_matrix = np.eye(3)\n",
        "print(\"\\n3x3 Identity Matrix:\\n\", identity_matrix)\n",
        "\n",
        "# 4. Create a random array of size 30 and find the mean\n",
        "random_array_30 = np.random.random(30)\n",
        "mean_value = random_array_30.mean()\n",
        "print(\"\\nRandom array of size 30:\\n\", random_array_30)\n",
        "print(\"Mean of the array:\", mean_value)\n",
        "\n",
        "# 5. Create a 10x10 array with random values and find the min and max values\n",
        "random_matrix_10x10 = np.random.random((10, 10))\n",
        "min_value = random_matrix_10x10.min()\n",
        "max_value = random_matrix_10x10.max()\n",
        "print(\"\\n10x10 Random Matrix:\\n\", random_matrix_10x10)\n",
        "print(\"Minimum Value:\", min_value)\n",
        "print(\"Maximum Value:\", max_value)\n",
        "\n",
        "# 6. Create a zero array of size 10 and replace the 5th element with 1\n",
        "zero_array = np.zeros(10)\n",
        "zero_array[4] = 1  # Index 4 is the 5th element (0-based indexing)\n",
        "print(\"\\nZero Array with 5th Element as 1:\\n\", zero_array)\n",
        "\n",
        "# 7. Reverse an array arr = [1,2,0,0,4,0]\n",
        "arr = np.array([1, 2, 0, 0, 4, 0])\n",
        "reversed_arr = arr[::-1]\n",
        "print(\"\\nReversed Array:\\n\", reversed_arr)\n",
        "\n",
        "# 8. Create a 2D array with 1 on the border and 0 inside\n",
        "border_array = np.ones((5, 5))\n",
        "border_array[1:-1, 1:-1] = 0\n",
        "print(\"\\n2D Array with Border 1 and Inside 0:\\n\", border_array)\n",
        "\n",
        "# 9. Create an 8x8 matrix and fill it with a checkerboard pattern\n",
        "checkerboard = np.zeros((8, 8), dtype=int)\n",
        "checkerboard[1::2, ::2] = 1  # Fill 1 in alternate positions\n",
        "checkerboard[::2, 1::2] = 1\n",
        "print(\"\\n8x8 Checkerboard Pattern:\\n\", checkerboard)\n"
      ],
      "metadata": {
        "colab": {
          "base_uri": "https://localhost:8080/"
        },
        "id": "IU2Td1VPjYhK",
        "outputId": "ca83ad1d-33aa-46b3-a6e5-d8a5698f0995"
      },
      "execution_count": null,
      "outputs": [
        {
          "output_type": "stream",
          "name": "stdout",
          "text": [
            "Array from 10 to 49:\n",
            " [10 11 12 13 14 15 16 17 18 19 20 21 22 23 24 25 26 27 28 29 30 31 32 33\n",
            " 34 35 36 37 38 39 40 41 42 43 44 45 46 47 48 49]\n",
            "\n",
            "3x3 Matrix with values from 0 to 8:\n",
            " [[0 1 2]\n",
            " [3 4 5]\n",
            " [6 7 8]]\n",
            "\n",
            "3x3 Identity Matrix:\n",
            " [[1. 0. 0.]\n",
            " [0. 1. 0.]\n",
            " [0. 0. 1.]]\n",
            "\n",
            "Random array of size 30:\n",
            " [0.62220859 0.08179515 0.01931555 0.66726006 0.95707194 0.96007019\n",
            " 0.73215978 0.11397544 0.489317   0.93676993 0.32960806 0.94959839\n",
            " 0.69548324 0.29320812 0.15981453 0.57280576 0.2097003  0.42983601\n",
            " 0.30228361 0.32952911 0.37258744 0.49792156 0.30383242 0.38280643\n",
            " 0.98417799 0.78048788 0.88318533 0.92469137 0.82689251 0.78372322]\n",
            "Mean of the array: 0.5530705642938905\n",
            "\n",
            "10x10 Random Matrix:\n",
            " [[8.16285009e-01 9.69001811e-01 4.13147787e-01 5.41988102e-01\n",
            "  2.50160567e-01 1.61965662e-01 5.43706301e-01 4.11458522e-01\n",
            "  1.64115519e-01 7.72552015e-01]\n",
            " [9.99418603e-01 2.40252340e-01 5.82676833e-01 6.42860221e-01\n",
            "  1.62874994e-01 5.58898580e-01 8.04699098e-01 8.42383817e-01\n",
            "  4.60374676e-01 6.20006091e-01]\n",
            " [7.81719931e-02 6.07480383e-01 6.33180765e-01 8.48006273e-01\n",
            "  8.75917384e-01 1.44999762e-01 2.11689096e-01 1.22655502e-01\n",
            "  2.72861422e-02 3.44743733e-01]\n",
            " [1.09074446e-01 8.16474886e-02 4.51983142e-01 6.21707664e-02\n",
            "  3.01198672e-01 2.74245678e-02 3.58104307e-01 5.98501262e-01\n",
            "  8.90393407e-01 5.87922510e-02]\n",
            " [3.44237259e-01 2.34348071e-01 5.61467686e-01 7.07867903e-01\n",
            "  7.16970318e-01 7.06700788e-01 4.19390046e-01 3.25961380e-01\n",
            "  5.31050511e-01 9.47920853e-01]\n",
            " [9.27510762e-01 6.45541284e-01 8.03974739e-01 6.72829444e-01\n",
            "  7.69683079e-01 2.40773048e-01 4.09883930e-01 8.19130751e-01\n",
            "  8.96457900e-01 5.02936701e-01]\n",
            " [5.49074772e-01 8.82574220e-01 9.01171752e-01 9.19076801e-01\n",
            "  1.72536136e-01 8.74520301e-01 6.94268217e-01 9.81995138e-01\n",
            "  1.18426302e-01 1.81544505e-01]\n",
            " [3.95880204e-01 8.18895124e-01 6.35545675e-01 8.42587585e-01\n",
            "  8.76448548e-01 4.50993586e-04 7.80893804e-01 7.68077455e-01\n",
            "  7.27931703e-01 1.00435092e-01]\n",
            " [7.91693678e-01 8.50036675e-01 6.48700314e-01 7.23351629e-02\n",
            "  4.46983537e-01 3.92876399e-01 9.05693913e-01 5.39133188e-01\n",
            "  7.67971251e-02 4.02857014e-01]\n",
            " [9.77502035e-01 3.44500523e-01 7.30304743e-01 2.92178989e-01\n",
            "  7.01112724e-01 1.47006059e-01 7.68632341e-01 1.50199571e-01\n",
            "  7.64479828e-01 4.81190910e-01]]\n",
            "Minimum Value: 0.0004509935858392211\n",
            "Maximum Value: 0.9994186031900512\n",
            "\n",
            "Zero Array with 5th Element as 1:\n",
            " [0. 0. 0. 0. 1. 0. 0. 0. 0. 0.]\n",
            "\n",
            "Reversed Array:\n",
            " [0 4 0 0 2 1]\n",
            "\n",
            "2D Array with Border 1 and Inside 0:\n",
            " [[1. 1. 1. 1. 1.]\n",
            " [1. 0. 0. 0. 1.]\n",
            " [1. 0. 0. 0. 1.]\n",
            " [1. 0. 0. 0. 1.]\n",
            " [1. 1. 1. 1. 1.]]\n",
            "\n",
            "8x8 Checkerboard Pattern:\n",
            " [[0 1 0 1 0 1 0 1]\n",
            " [1 0 1 0 1 0 1 0]\n",
            " [0 1 0 1 0 1 0 1]\n",
            " [1 0 1 0 1 0 1 0]\n",
            " [0 1 0 1 0 1 0 1]\n",
            " [1 0 1 0 1 0 1 0]\n",
            " [0 1 0 1 0 1 0 1]\n",
            " [1 0 1 0 1 0 1 0]]\n"
          ]
        }
      ]
    },
    {
      "cell_type": "markdown",
      "source": [
        "## Problem - 3: Array Operations:\n",
        "### For the following arrays:\n",
        "### x = np.array([[1,2],[3,5]]) and y = np.array([[5,6],[7,8]]);\n",
        "### v = np.array([9,10]) and w = np.array([11,12]);\n",
        "### Complete all the task using numpy:\n",
        "1. Add the two array.\n",
        "2. Subtract the two array.\n",
        "3. Multiply the array with any integers of your choice.\n",
        "4. Find the square of each element of the array.\n",
        "5. Find the dot product between: v(and)w ; x(and)v ; x(and)y.\n",
        "6. Concatenate x(and)y along row and Concatenate v(and)w along column.\n",
        "{Hint:try np.concatenate() or np.vstack() functions.\n",
        "7. Concatenate x(and)v; if you get an error, observe and explain why did you get the error?"
      ],
      "metadata": {
        "id": "c1Zk6M2iiurz"
      }
    },
    {
      "cell_type": "code",
      "source": [
        "import numpy as np\n",
        "\n",
        "# Define the given arrays\n",
        "x = np.array([[1, 2], [3, 5]])\n",
        "y = np.array([[5, 6], [7, 8]])\n",
        "v = np.array([9, 10])\n",
        "w = np.array([11, 12])\n",
        "\n",
        "# 1. Add the two arrays (element-wise)\n",
        "add_xy = x + y\n",
        "print(\"Addition of x and y:\\n\", add_xy)\n",
        "\n",
        "# 2. Subtract the two arrays (element-wise)\n",
        "subtract_xy = x - y\n",
        "print(\"\\nSubtraction of x and y:\\n\", subtract_xy)\n",
        "\n",
        "# 3. Multiply the array x with an integer (e.g., 3)\n",
        "multiply_x = x * 3\n",
        "print(\"\\nMultiplication of x with 3:\\n\", multiply_x)\n",
        "\n",
        "# 4. Find the square of each element of x\n",
        "square_x = np.square(x)\n",
        "print(\"\\nSquare of each element in x:\\n\", square_x)\n",
        "\n",
        "# 5. Find the dot product\n",
        "dot_vw = np.dot(v, w)  # Dot product of vectors v and w\n",
        "dot_xv = np.dot(x, v)  # Dot product of matrix x and vector v\n",
        "dot_xy = np.dot(x, y)  # Dot product of matrices x and y\n",
        "\n",
        "print(\"\\nDot product of v and w:\", dot_vw)\n",
        "print(\"Dot product of x and v:\\n\", dot_xv)\n",
        "print(\"Dot product of x and y:\\n\", dot_xy)\n",
        "\n",
        "# 6. Concatenate x and y along rows (axis=0)\n",
        "concat_xy = np.concatenate((x, y), axis=0)\n",
        "print(\"\\nConcatenation of x and y along rows:\\n\", concat_xy)\n",
        "\n",
        "# Concatenate v and w along columns (reshaping them to column vectors)\n",
        "concat_vw = np.concatenate((v.reshape(-1, 1), w.reshape(-1, 1)), axis=1)\n",
        "print(\"\\nConcatenation of v and w along columns:\\n\", concat_vw)\n",
        "\n",
        "# 7. Concatenate x and v\n",
        "try:\n",
        "    concat_xv = np.concatenate((x, v), axis=0)  # Attempting to concatenate x and v\n",
        "    print(\"\\nConcatenation of x and v:\\n\", concat_xv)\n",
        "except ValueError as e:\n",
        "    print(\"\\nError while concatenating x and v:\", e)\n"
      ],
      "metadata": {
        "colab": {
          "base_uri": "https://localhost:8080/"
        },
        "id": "FJhg-IWGjxMZ",
        "outputId": "e67ec9b7-1dbc-43d9-b3fb-fcca147d58f4"
      },
      "execution_count": null,
      "outputs": [
        {
          "output_type": "stream",
          "name": "stdout",
          "text": [
            "Addition of x and y:\n",
            " [[ 6  8]\n",
            " [10 13]]\n",
            "\n",
            "Subtraction of x and y:\n",
            " [[-4 -4]\n",
            " [-4 -3]]\n",
            "\n",
            "Multiplication of x with 3:\n",
            " [[ 3  6]\n",
            " [ 9 15]]\n",
            "\n",
            "Square of each element in x:\n",
            " [[ 1  4]\n",
            " [ 9 25]]\n",
            "\n",
            "Dot product of v and w: 219\n",
            "Dot product of x and v:\n",
            " [29 77]\n",
            "Dot product of x and y:\n",
            " [[19 22]\n",
            " [50 58]]\n",
            "\n",
            "Concatenation of x and y along rows:\n",
            " [[1 2]\n",
            " [3 5]\n",
            " [5 6]\n",
            " [7 8]]\n",
            "\n",
            "Concatenation of v and w along columns:\n",
            " [[ 9 11]\n",
            " [10 12]]\n",
            "\n",
            "Error while concatenating x and v: all the input arrays must have same number of dimensions, but the array at index 0 has 2 dimension(s) and the array at index 1 has 1 dimension(s)\n"
          ]
        }
      ]
    },
    {
      "cell_type": "markdown",
      "source": [
        "## Problem - 4: Matrix Operations:\n"
      ],
      "metadata": {
        "id": "LglBBco3i13Y"
      }
    },
    {
      "cell_type": "markdown",
      "source": [
        "# Experiment: How Fast is Numpy?\n",
        "## In this exercise, you will compare the performance and implementation of operations using plain Python\n",
        "## lists (arrays) and NumPy arrays. Follow the instructions:\n",
        "### 1. Element-wise Addition:\n",
        "Using Python Lists, perform element-wise addition of two lists of size 1, 000, 000. Measure and Print the time taken for this operation.\n",
        "Using Numpy Arrays, Repeat the calculation and measure and print the time taken for this operation."
      ],
      "metadata": {
        "id": "mhW8fxYjFqEv"
      }
    },
    {
      "cell_type": "code",
      "source": [
        "import time\n",
        "import numpy as np\n",
        "\n",
        "# Create two lists of size 1,000,000 with random values\n",
        "list1 = [i for i in range(1, 1000001)]\n",
        "list2 = [i for i in range(1000000, 0, -1)]\n",
        "\n",
        "# Measure time for Python List element-wise addition\n",
        "start_time = time.time()\n",
        "result_list = [list1[i] + list2[i] for i in range(len(list1))]\n",
        "end_time = time.time()\n",
        "print(f\"Time taken for element-wise addition using Python Lists: {end_time - start_time} seconds\")\n",
        "\n",
        "# Create two numpy arrays of size 1,000,000 with random values\n",
        "array1 = np.arange(1, 1000001)\n",
        "array2 = np.arange(1000000, 0, -1)\n",
        "\n",
        "# Measure time for Numpy Array element-wise addition\n",
        "start_time = time.time()\n",
        "result_array = array1 + array2\n",
        "end_time = time.time()\n",
        "print(f\"Time taken for element-wise addition using Numpy Arrays: {end_time - start_time} seconds\")\n"
      ],
      "metadata": {
        "colab": {
          "base_uri": "https://localhost:8080/"
        },
        "id": "XvYEkQpCGWoX",
        "outputId": "06eddcb7-663a-4b8e-b797-14faaa1ed4e6"
      },
      "execution_count": null,
      "outputs": [
        {
          "output_type": "stream",
          "name": "stdout",
          "text": [
            "Time taken for element-wise addition using Python Lists: 0.07983636856079102 seconds\n",
            "Time taken for element-wise addition using Numpy Arrays: 0.003934621810913086 seconds\n"
          ]
        }
      ]
    },
    {
      "cell_type": "markdown",
      "source": [
        "### 2. Element-wise Multiplication\n",
        "• Using Python Lists, perform element-wise multiplication of two lists of size 1, 000, 000.\n",
        "Measure and Print the time taken for this operation.\n",
        "• Using Numpy Arrays, Repeat the calculation and measure and print the time taken for this operation."
      ],
      "metadata": {
        "id": "2xA0LZ3Fj7Zh"
      }
    },
    {
      "cell_type": "code",
      "source": [
        "import time\n",
        "import numpy as np\n",
        "\n",
        "# Create two lists of size 1,000,000 with random values\n",
        "list1 = [i for i in range(1, 1000001)]\n",
        "list2 = [i for i in range(1000000, 0, -1)]\n",
        "\n",
        "# Measure time for Python List element-wise multiplication\n",
        "start_time = time.time()\n",
        "result_list = [list1[i] * list2[i] for i in range(len(list1))]\n",
        "end_time = time.time()\n",
        "print(f\"Time taken for element-wise multiplication using Python Lists: {end_time - start_time} seconds\")\n",
        "\n",
        "# Create two numpy arrays of size 1,000,000 with random values\n",
        "array1 = np.arange(1, 1000001)\n",
        "array2 = np.arange(1000000, 0, -1)\n",
        "\n",
        "# Measure time for Numpy Array element-wise multiplication\n",
        "start_time = time.time()\n",
        "result_array = array1 * array2\n",
        "end_time = time.time()\n",
        "print(f\"Time taken for element-wise multiplication using Numpy Arrays: {end_time - start_time} seconds\")\n"
      ],
      "metadata": {
        "colab": {
          "base_uri": "https://localhost:8080/"
        },
        "id": "99if7yKlkWNT",
        "outputId": "e723f8c9-470b-46e8-888c-82421e9c8699"
      },
      "execution_count": null,
      "outputs": [
        {
          "output_type": "stream",
          "name": "stdout",
          "text": [
            "Time taken for element-wise multiplication using Python Lists: 0.10437607765197754 seconds\n",
            "Time taken for element-wise multiplication using Numpy Arrays: 0.0053250789642333984 seconds\n"
          ]
        }
      ]
    },
    {
      "cell_type": "markdown",
      "source": [
        "### 3. Dot Product\n",
        "• Using Python Lists, compute the dot product of two lists of size 1, 000, 000. Measure and\n",
        "Print the time taken for this operation.\n",
        "• Using Numpy Arrays, Repeat the calculation and measure and print the time taken for\n",
        "this operation."
      ],
      "metadata": {
        "id": "deE97X6ckGHu"
      }
    },
    {
      "cell_type": "code",
      "source": [
        "import time\n",
        "import numpy as np\n",
        "\n",
        "# Create two lists of size 1,000,000 with random values\n",
        "list1 = [i for i in range(1, 1000001)]\n",
        "list2 = [i for i in range(1000000, 0, -1)]\n",
        "\n",
        "# Measure time for Python List dot product\n",
        "start_time = time.time()\n",
        "dot_product_list = sum(list1[i] * list2[i] for i in range(len(list1)))\n",
        "end_time = time.time()\n",
        "print(f\"Time taken for dot product using Python Lists: {end_time - start_time} seconds\")\n",
        "\n",
        "# Create two numpy arrays of size 1,000,000 with random values\n",
        "array1 = np.arange(1, 1000001)\n",
        "array2 = np.arange(1000000, 0, -1)\n",
        "\n",
        "# Measure time for Numpy Array dot product\n",
        "start_time = time.time()\n",
        "dot_product_array = np.dot(array1, array2)\n",
        "end_time = time.time()\n",
        "print(f\"Time taken for dot product using Numpy Arrays: {end_time - start_time} seconds\")\n"
      ],
      "metadata": {
        "colab": {
          "base_uri": "https://localhost:8080/"
        },
        "id": "frcyzsmZkeTR",
        "outputId": "399a8c23-1dc8-4618-aacf-574ac372b988"
      },
      "execution_count": null,
      "outputs": [
        {
          "output_type": "stream",
          "name": "stdout",
          "text": [
            "Time taken for dot product using Python Lists: 0.1007850170135498 seconds\n",
            "Time taken for dot product using Numpy Arrays: 0.0012829303741455078 seconds\n"
          ]
        }
      ]
    },
    {
      "cell_type": "markdown",
      "source": [
        "### 4. Matrix Multiplication\n",
        "\n",
        "• Using Python lists, perform matrix multiplication of two matrices of size 1000x1000. Mea-\n",
        "sure and print the time taken for this operation.\n",
        "\n",
        "• Using NumPy arrays, perform matrix multiplication of two matrices of size 1000x1000.\n",
        "Measure and print the time taken for this operation."
      ],
      "metadata": {
        "id": "e8SGfyigkKJT"
      }
    },
    {
      "cell_type": "code",
      "source": [
        "import time\n",
        "import numpy as np\n",
        "\n",
        "# Define matrix size\n",
        "N = 1000  # Matrix size 1000x1000\n",
        "\n",
        "# Create two random 1000x1000 matrices using Python lists\n",
        "matrix1_list = [[np.random.rand() for _ in range(N)] for _ in range(N)]\n",
        "matrix2_list = [[np.random.rand() for _ in range(N)] for _ in range(N)]\n",
        "\n",
        "# Measure time for matrix multiplication using Python Lists\n",
        "start_time = time.time()\n",
        "result_list = [[sum(matrix1_list[i][k] * matrix2_list[k][j] for k in range(N)) for j in range(N)] for i in range(N)]\n",
        "end_time = time.time()\n",
        "print(f\"Time taken for matrix multiplication using Python Lists: {end_time - start_time:.5f} seconds\")\n",
        "\n",
        "# Create two random 1000x1000 matrices using NumPy arrays\n",
        "matrix1_array = np.random.rand(N, N)\n",
        "matrix2_array = np.random.rand(N, N)\n",
        "\n",
        "# Measure time for matrix multiplication using NumPy Arrays\n",
        "start_time = time.time()\n",
        "result_array = np.dot(matrix1_array, matrix2_array)\n",
        "end_time = time.time()\n",
        "print(f\"Time taken for matrix multiplication using NumPy Arrays: {end_time - start_time:.5f} seconds\")\n"
      ],
      "metadata": {
        "colab": {
          "base_uri": "https://localhost:8080/"
        },
        "id": "6ZJhCzPckfTy",
        "outputId": "95399974-6e4c-4523-84a4-d48dda104f74"
      },
      "execution_count": null,
      "outputs": [
        {
          "output_type": "stream",
          "name": "stdout",
          "text": [
            "Time taken for matrix multiplication using Python Lists: 175.36505 seconds\n",
            "Time taken for matrix multiplication using NumPy Arrays: 0.06694 seconds\n"
          ]
        }
      ]
    }
  ]
}